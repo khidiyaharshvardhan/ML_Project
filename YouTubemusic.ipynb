{
  "nbformat": 4,
  "nbformat_minor": 0,
  "metadata": {
    "colab": {
      "name": "YouTubemusic.ipynb",
      "version": "0.3.2",
      "provenance": [],
      "include_colab_link": true
    },
    "kernelspec": {
      "name": "python3",
      "display_name": "Python 3"
    }
  },
  "cells": [
    {
      "cell_type": "markdown",
      "metadata": {
        "id": "view-in-github",
        "colab_type": "text"
      },
      "source": [
        "<a href=\"https://colab.research.google.com/github/khidiyaharshvardhan/ML_Project/blob/hvsk/YouTubemusic.ipynb\" target=\"_parent\"><img src=\"https://colab.research.google.com/assets/colab-badge.svg\" alt=\"Open In Colab\"/></a>"
      ]
    },
    {
      "cell_type": "code",
      "metadata": {
        "id": "otTnZQo71eMC",
        "colab_type": "code",
        "colab": {}
      },
      "source": [
        "# First of all you have to install pafy on your anaconda cmd.\n",
        "\n",
        "#However we can use it to get correct url, and then use player such as vlc to play directly without downloading.\n",
        "#First we get correct / best URL from youtube using pafy\n",
        "import pafy\n",
        "# Do $pip install python-vlc in anaconda cmd  \n",
        "import vlc\n",
        "\n",
        "url = \"https://www.youtube.com/watch?v=fhE4bhy4pWw\"\n",
        "video = pafy.new(url)\n",
        "best = video.getbest()\n",
        "playurl = best.url"
      ],
      "execution_count": 0,
      "outputs": []
    },
    {
      "cell_type": "code",
      "metadata": {
        "id": "fq9f2J1j2NrG",
        "colab_type": "code",
        "colab": {}
      },
      "source": [
        "Instance = vlc.Instance()\n",
        "player = Instance.media_player_new()\n",
        "Media = Instance.media_new(playurl)\n",
        "Media.get_mrl()\n",
        "player.set_media(Media)\n",
        "\n",
        "player.play()\n",
        "#player.pause() #-- to pause video\n",
        "#player.stop()  #-- to stop/end video\n",
        "Message=input(\"Enter Your Message\")\n",
        "if Message==\"stop\":\n",
        "\tplayer.stop()\n",
        "else:\n",
        "\tplayer.play()"
      ],
      "execution_count": 0,
      "outputs": []
    }
  ]
}