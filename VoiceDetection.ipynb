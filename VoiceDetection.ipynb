{
  "nbformat": 4,
  "nbformat_minor": 0,
  "metadata": {
    "colab": {
      "name": "VoiceDetection.ipynb",
      "version": "0.3.2",
      "provenance": [],
      "include_colab_link": true
    },
    "kernelspec": {
      "name": "python3",
      "display_name": "Python 3"
    }
  },
  "cells": [
    {
      "cell_type": "markdown",
      "metadata": {
        "id": "view-in-github",
        "colab_type": "text"
      },
      "source": [
        "<a href=\"https://colab.research.google.com/github/khidiyaharshvardhan/ML_Project/blob/hvsk/VoiceDetection.ipynb\" target=\"_parent\"><img src=\"https://colab.research.google.com/assets/colab-badge.svg\" alt=\"Open In Colab\"/></a>"
      ]
    },
    {
      "cell_type": "code",
      "metadata": {
        "id": "j_JRD3J_HL_y",
        "colab_type": "code",
        "colab": {}
      },
      "source": [
        "import speech_recognition as sr\n",
        "import pyaudio\n",
        "r=sr.Recognizer()\n"
      ],
      "execution_count": 0,
      "outputs": []
    },
    {
      "cell_type": "code",
      "metadata": {
        "id": "qpmAzZH3Ll4G",
        "colab_type": "code",
        "colab": {}
      },
      "source": [
        "with sr.Microphone() as source:\n",
        "    print('speak something: ')\n",
        "    audio=r.listen(source,timeout=10)\n",
        "try:\n",
        "    text=r.recognize_google(audio)\n",
        "    print('you said:{}'.format(text))\n",
        "except:\n",
        "    print('sorry could not recognize your voice')"
      ],
      "execution_count": 0,
      "outputs": []
    }
  ]
}